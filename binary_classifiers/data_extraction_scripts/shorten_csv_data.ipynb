{
 "cells": [
  {
   "cell_type": "code",
   "execution_count": 1,
   "id": "7c2231a7",
   "metadata": {},
   "outputs": [],
   "source": [
    "import pandas as pd"
   ]
  },
  {
   "cell_type": "code",
   "execution_count": 2,
   "id": "51ddd6f8",
   "metadata": {},
   "outputs": [],
   "source": [
    "df = pd.read_csv(\"data/viral_host_data.csv\")"
   ]
  },
  {
   "cell_type": "code",
   "execution_count": 4,
   "id": "530488b0",
   "metadata": {},
   "outputs": [
    {
     "data": {
      "text/html": [
       "<div>\n",
       "<style scoped>\n",
       "    .dataframe tbody tr th:only-of-type {\n",
       "        vertical-align: middle;\n",
       "    }\n",
       "\n",
       "    .dataframe tbody tr th {\n",
       "        vertical-align: top;\n",
       "    }\n",
       "\n",
       "    .dataframe thead th {\n",
       "        text-align: right;\n",
       "    }\n",
       "</style>\n",
       "<table border=\"1\" class=\"dataframe\">\n",
       "  <thead>\n",
       "    <tr style=\"text-align: right;\">\n",
       "      <th></th>\n",
       "      <th>id</th>\n",
       "      <th>sequence</th>\n",
       "      <th>length</th>\n",
       "      <th>label</th>\n",
       "      <th>library</th>\n",
       "      <th>source_file</th>\n",
       "      <th>split</th>\n",
       "    </tr>\n",
       "  </thead>\n",
       "  <tbody>\n",
       "    <tr>\n",
       "      <th>0</th>\n",
       "      <td>NC_055211.1</td>\n",
       "      <td>AGTAGTGTACTCCTATATAAAGAAATTACAATAAATTCTCATTGCT...</td>\n",
       "      <td>6912</td>\n",
       "      <td>1</td>\n",
       "      <td>viral</td>\n",
       "      <td>New FASTA Data/viral/NC_055212.1.fna</td>\n",
       "      <td>train</td>\n",
       "    </tr>\n",
       "    <tr>\n",
       "      <th>1</th>\n",
       "      <td>NC_055212.1</td>\n",
       "      <td>AGTAGTGTACTACCGATACAATACACAACTAGTTGAAGGATTTTGA...</td>\n",
       "      <td>4467</td>\n",
       "      <td>1</td>\n",
       "      <td>viral</td>\n",
       "      <td>New FASTA Data/viral/NC_055212.1.fna</td>\n",
       "      <td>train</td>\n",
       "    </tr>\n",
       "    <tr>\n",
       "      <th>2</th>\n",
       "      <td>NC_055210.1</td>\n",
       "      <td>AGTAGTGTACTCCACACTAATAACTAGCTATTTCTGATAATCTTGA...</td>\n",
       "      <td>945</td>\n",
       "      <td>1</td>\n",
       "      <td>viral</td>\n",
       "      <td>New FASTA Data/viral/NC_055212.1.fna</td>\n",
       "      <td>train</td>\n",
       "    </tr>\n",
       "    <tr>\n",
       "      <th>3</th>\n",
       "      <td>NC_027714.1</td>\n",
       "      <td>TAATATTACTGGTTTCGCTGTGGGCCCCACACGGGGCCCCCGACAA...</td>\n",
       "      <td>2745</td>\n",
       "      <td>1</td>\n",
       "      <td>viral</td>\n",
       "      <td>New FASTA Data/viral/NC_027714.1.fna</td>\n",
       "      <td>test</td>\n",
       "    </tr>\n",
       "    <tr>\n",
       "      <th>4</th>\n",
       "      <td>NC_071136.1</td>\n",
       "      <td>GGTGCGTCCAACGCCCATCAGACCTTCACGGTCAAGCTGGGCGACA...</td>\n",
       "      <td>48837</td>\n",
       "      <td>1</td>\n",
       "      <td>viral</td>\n",
       "      <td>New FASTA Data/viral/NC_071136.1.fna</td>\n",
       "      <td>test</td>\n",
       "    </tr>\n",
       "  </tbody>\n",
       "</table>\n",
       "</div>"
      ],
      "text/plain": [
       "            id                                           sequence  length  \\\n",
       "0  NC_055211.1  AGTAGTGTACTCCTATATAAAGAAATTACAATAAATTCTCATTGCT...    6912   \n",
       "1  NC_055212.1  AGTAGTGTACTACCGATACAATACACAACTAGTTGAAGGATTTTGA...    4467   \n",
       "2  NC_055210.1  AGTAGTGTACTCCACACTAATAACTAGCTATTTCTGATAATCTTGA...     945   \n",
       "3  NC_027714.1  TAATATTACTGGTTTCGCTGTGGGCCCCACACGGGGCCCCCGACAA...    2745   \n",
       "4  NC_071136.1  GGTGCGTCCAACGCCCATCAGACCTTCACGGTCAAGCTGGGCGACA...   48837   \n",
       "\n",
       "   label library                           source_file  split  \n",
       "0      1   viral  New FASTA Data/viral/NC_055212.1.fna  train  \n",
       "1      1   viral  New FASTA Data/viral/NC_055212.1.fna  train  \n",
       "2      1   viral  New FASTA Data/viral/NC_055212.1.fna  train  \n",
       "3      1   viral  New FASTA Data/viral/NC_027714.1.fna   test  \n",
       "4      1   viral  New FASTA Data/viral/NC_071136.1.fna   test  "
      ]
     },
     "execution_count": 4,
     "metadata": {},
     "output_type": "execute_result"
    }
   ],
   "source": [
    "df.head()\n"
   ]
  },
  {
   "cell_type": "code",
   "execution_count": 16,
   "id": "12719d47",
   "metadata": {},
   "outputs": [],
   "source": [
    "df1 = df[(df['library'] == 'viral') & (df['split'] == 'train')].head(800)"
   ]
  },
  {
   "cell_type": "code",
   "execution_count": 17,
   "id": "c480aba1",
   "metadata": {},
   "outputs": [],
   "source": [
    "df2 = df[(df['library'] == 'viral') & (df['split'] == 'test')].head(200)"
   ]
  },
  {
   "cell_type": "code",
   "execution_count": 18,
   "id": "45520bc5",
   "metadata": {},
   "outputs": [],
   "source": [
    "df3 = df[(df['library'] == 'bacteria') & (df['split'] == 'train')].head(400)"
   ]
  },
  {
   "cell_type": "code",
   "execution_count": 19,
   "id": "dcc586b8",
   "metadata": {},
   "outputs": [],
   "source": [
    "df4 = df[(df['library'] == 'bacteria') & (df['split'] == 'test')].head(100)"
   ]
  },
  {
   "cell_type": "code",
   "execution_count": 20,
   "id": "5738a25e",
   "metadata": {},
   "outputs": [],
   "source": [
    "df5 = df[(df['library'] == 'archaea') & (df['split'] == 'train')].head(400)"
   ]
  },
  {
   "cell_type": "code",
   "execution_count": 21,
   "id": "6f8693e9",
   "metadata": {},
   "outputs": [],
   "source": [
    "df6 = df[(df['library'] == 'archaea') & (df['split'] == 'test')].head(100)"
   ]
  },
  {
   "cell_type": "code",
   "execution_count": 22,
   "id": "52236bb6",
   "metadata": {},
   "outputs": [],
   "source": [
    "merged_df = pd.concat([df1, df2, df3, df4, df5, df6], ignore_index=True)"
   ]
  },
  {
   "cell_type": "code",
   "execution_count": 23,
   "id": "12dc3dbe",
   "metadata": {},
   "outputs": [
    {
     "data": {
      "text/plain": [
       "2000"
      ]
     },
     "execution_count": 23,
     "metadata": {},
     "output_type": "execute_result"
    }
   ],
   "source": [
    "len(merged_df)"
   ]
  },
  {
   "cell_type": "code",
   "execution_count": 24,
   "id": "9f1f55b3",
   "metadata": {},
   "outputs": [],
   "source": [
    "merged_df.to_csv(\"data/short_viral_host_data.csv\", index=False)"
   ]
  }
 ],
 "metadata": {
  "kernelspec": {
   "display_name": "Python 3",
   "language": "python",
   "name": "python3"
  },
  "language_info": {
   "codemirror_mode": {
    "name": "ipython",
    "version": 3
   },
   "file_extension": ".py",
   "mimetype": "text/x-python",
   "name": "python",
   "nbconvert_exporter": "python",
   "pygments_lexer": "ipython3",
   "version": "3.13.5"
  }
 },
 "nbformat": 4,
 "nbformat_minor": 5
}
