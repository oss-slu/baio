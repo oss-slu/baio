{
 "cells": [
  {
   "cell_type": "code",
   "execution_count": 24,
   "id": "1b4bb911",
   "metadata": {},
   "outputs": [],
   "source": [
    "import pandas as pd\n",
    "import sys\n",
    "sys.path.append('..')\n",
    "from transformers.kmers_transformer import KmerTransformer"
   ]
  },
  {
   "cell_type": "markdown",
   "id": "ce16a9af",
   "metadata": {},
   "source": [
    "## 1. Read Shortened Data"
   ]
  },
  {
   "cell_type": "code",
   "execution_count": 9,
   "id": "ddc17c53",
   "metadata": {},
   "outputs": [],
   "source": [
    "df = pd.read_csv(\"../data/short_viral_host_data.csv\")"
   ]
  },
  {
   "cell_type": "markdown",
   "id": "2830b799",
   "metadata": {},
   "source": [
    "## 2. Calculate kmers"
   ]
  },
  {
   "cell_type": "code",
   "execution_count": 25,
   "id": "d451c94a",
   "metadata": {},
   "outputs": [],
   "source": [
    "kmer_transformer = KmerTransformer(k=6)"
   ]
  },
  {
   "cell_type": "code",
   "execution_count": 26,
   "id": "8a3587fc",
   "metadata": {},
   "outputs": [],
   "source": [
    "df['kmers'] = kmers_transformer.transform(df['sequence'])"
   ]
  },
  {
   "cell_type": "markdown",
   "id": "9ab9c0ab",
   "metadata": {},
   "source": [
    "## 3. Add kmers to the Dataset"
   ]
  },
  {
   "cell_type": "code",
   "execution_count": 9,
   "id": "c696749e",
   "metadata": {},
   "outputs": [],
   "source": [
    "df.to_csv(\"../data/kmers_short_viral_host_data.csv\", index=False)"
   ]
  }
 ],
 "metadata": {
  "kernelspec": {
   "display_name": "Python 3",
   "language": "python",
   "name": "python3"
  },
  "language_info": {
   "codemirror_mode": {
    "name": "ipython",
    "version": 3
   },
   "file_extension": ".py",
   "mimetype": "text/x-python",
   "name": "python",
   "nbconvert_exporter": "python",
   "pygments_lexer": "ipython3",
   "version": "3.13.5"
  }
 },
 "nbformat": 4,
 "nbformat_minor": 5
}
