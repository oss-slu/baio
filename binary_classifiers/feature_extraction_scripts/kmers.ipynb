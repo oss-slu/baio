{
 "cells": [
  {
   "cell_type": "code",
   "execution_count": null,
   "id": "1b4bb911",
   "metadata": {},
   "outputs": [],
   "source": [
    "import pandas as pd"
   ]
  },
  {
   "cell_type": "markdown",
   "id": "ce16a9af",
   "metadata": {},
   "source": [
    "## 1. Read Shortened Data"
   ]
  },
  {
   "cell_type": "code",
   "execution_count": 5,
   "id": "ddc17c53",
   "metadata": {},
   "outputs": [],
   "source": [
    "df = pd.read_csv(\"../data/short_viral_host_data.csv\")"
   ]
  },
  {
   "cell_type": "markdown",
   "id": "2830b799",
   "metadata": {},
   "source": [
    "## 2. Calculate kmers"
   ]
  },
  {
   "cell_type": "code",
   "execution_count": 6,
   "id": "d451c94a",
   "metadata": {},
   "outputs": [],
   "source": [
    "def get_kmers(seq, k=6):\n",
    "    seq = seq.upper().replace('N', '')  # clean ambiguous bases\n",
    "    return ' '.join([seq[i:i+k] for i in range(len(seq) - k + 1)])"
   ]
  },
  {
   "cell_type": "code",
   "execution_count": 7,
   "id": "8a3587fc",
   "metadata": {},
   "outputs": [],
   "source": [
    "df['kmers'] = df['sequence'].apply(lambda x: get_kmers(x, k=6))"
   ]
  },
  {
   "cell_type": "markdown",
   "id": "9ab9c0ab",
   "metadata": {},
   "source": [
    "## 3. Add kmers to the Dataset"
   ]
  },
  {
   "cell_type": "code",
   "execution_count": 9,
   "id": "c696749e",
   "metadata": {},
   "outputs": [],
   "source": [
    "df.to_csv(\"../data/kmers_short_viral_host_data.csv\", index=False)"
   ]
  }
 ],
 "metadata": {
  "kernelspec": {
   "display_name": "Python 3",
   "language": "python",
   "name": "python3"
  },
  "language_info": {
   "codemirror_mode": {
    "name": "ipython",
    "version": 3
   },
   "file_extension": ".py",
   "mimetype": "text/x-python",
   "name": "python",
   "nbconvert_exporter": "python",
   "pygments_lexer": "ipython3",
   "version": "3.13.5"
  }
 },
 "nbformat": 4,
 "nbformat_minor": 5
}
